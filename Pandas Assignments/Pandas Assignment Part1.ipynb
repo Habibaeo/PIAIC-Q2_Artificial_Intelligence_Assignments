{
 "cells": [
  {
   "cell_type": "code",
   "execution_count": 405,
   "metadata": {},
   "outputs": [],
   "source": [
    "import numpy as np\n",
    "import pandas as pd"
   ]
  },
  {
   "cell_type": "code",
   "execution_count": 406,
   "metadata": {},
   "outputs": [],
   "source": [
    "import glob"
   ]
  },
  {
   "cell_type": "code",
   "execution_count": 407,
   "metadata": {},
   "outputs": [],
   "source": [
    "data = glob.glob('states*.csv')\n",
    "compl_data = [pd.read_csv(data)for data in data]\n",
    "us_census = pd.concat(compl_data)"
   ]
  },
  {
   "cell_type": "code",
   "execution_count": 408,
   "metadata": {},
   "outputs": [
    {
     "data": {
      "text/plain": [
       "Index(['Unnamed: 0', 'State', 'TotalPop', 'Hispanic', 'White', 'Black',\n",
       "       'Native', 'Asian', 'Pacific', 'Income', 'GenderPop'],\n",
       "      dtype='object')"
      ]
     },
     "execution_count": 408,
     "metadata": {},
     "output_type": "execute_result"
    }
   ],
   "source": [
    "us_census.columns"
   ]
  },
  {
   "cell_type": "code",
   "execution_count": 409,
   "metadata": {},
   "outputs": [
    {
     "data": {
      "text/plain": [
       "Unnamed: 0     int64\n",
       "State         object\n",
       "TotalPop       int64\n",
       "Hispanic      object\n",
       "White         object\n",
       "Black         object\n",
       "Native        object\n",
       "Asian         object\n",
       "Pacific       object\n",
       "Income        object\n",
       "GenderPop     object\n",
       "dtype: object"
      ]
     },
     "execution_count": 409,
     "metadata": {},
     "output_type": "execute_result"
    }
   ],
   "source": [
    "us_census.dtypes"
   ]
  },
  {
   "cell_type": "code",
   "execution_count": 410,
   "metadata": {},
   "outputs": [
    {
     "data": {
      "text/html": [
       "<div>\n",
       "<style scoped>\n",
       "    .dataframe tbody tr th:only-of-type {\n",
       "        vertical-align: middle;\n",
       "    }\n",
       "\n",
       "    .dataframe tbody tr th {\n",
       "        vertical-align: top;\n",
       "    }\n",
       "\n",
       "    .dataframe thead th {\n",
       "        text-align: right;\n",
       "    }\n",
       "</style>\n",
       "<table border=\"1\" class=\"dataframe\">\n",
       "  <thead>\n",
       "    <tr style=\"text-align: right;\">\n",
       "      <th></th>\n",
       "      <th>Unnamed: 0</th>\n",
       "      <th>State</th>\n",
       "      <th>TotalPop</th>\n",
       "      <th>Hispanic</th>\n",
       "      <th>White</th>\n",
       "      <th>Black</th>\n",
       "      <th>Native</th>\n",
       "      <th>Asian</th>\n",
       "      <th>Pacific</th>\n",
       "      <th>Income</th>\n",
       "      <th>GenderPop</th>\n",
       "    </tr>\n",
       "  </thead>\n",
       "  <tbody>\n",
       "    <tr>\n",
       "      <th>0</th>\n",
       "      <td>0</td>\n",
       "      <td>Alabama</td>\n",
       "      <td>4830620</td>\n",
       "      <td>3.75%</td>\n",
       "      <td>61.88%</td>\n",
       "      <td>31.25%</td>\n",
       "      <td>0.45%</td>\n",
       "      <td>1.05%</td>\n",
       "      <td>0.03%</td>\n",
       "      <td>$43,296.36</td>\n",
       "      <td>2341093M_2489527F</td>\n",
       "    </tr>\n",
       "    <tr>\n",
       "      <th>1</th>\n",
       "      <td>1</td>\n",
       "      <td>Alaska</td>\n",
       "      <td>733375</td>\n",
       "      <td>5.91%</td>\n",
       "      <td>60.91%</td>\n",
       "      <td>2.85%</td>\n",
       "      <td>16.39%</td>\n",
       "      <td>5.45%</td>\n",
       "      <td>1.06%</td>\n",
       "      <td>$70,354.74</td>\n",
       "      <td>384160M_349215F</td>\n",
       "    </tr>\n",
       "    <tr>\n",
       "      <th>2</th>\n",
       "      <td>2</td>\n",
       "      <td>Arizona</td>\n",
       "      <td>6641928</td>\n",
       "      <td>29.57%</td>\n",
       "      <td>57.12%</td>\n",
       "      <td>3.85%</td>\n",
       "      <td>4.36%</td>\n",
       "      <td>2.88%</td>\n",
       "      <td>0.17%</td>\n",
       "      <td>$54,207.82</td>\n",
       "      <td>3299088M_3342840F</td>\n",
       "    </tr>\n",
       "    <tr>\n",
       "      <th>3</th>\n",
       "      <td>3</td>\n",
       "      <td>Arkansas</td>\n",
       "      <td>2958208</td>\n",
       "      <td>6.22%</td>\n",
       "      <td>71.14%</td>\n",
       "      <td>18.97%</td>\n",
       "      <td>0.52%</td>\n",
       "      <td>1.14%</td>\n",
       "      <td>0.15%</td>\n",
       "      <td>$41,935.63</td>\n",
       "      <td>1451913M_1506295F</td>\n",
       "    </tr>\n",
       "    <tr>\n",
       "      <th>4</th>\n",
       "      <td>4</td>\n",
       "      <td>California</td>\n",
       "      <td>38421464</td>\n",
       "      <td>37.29%</td>\n",
       "      <td>40.22%</td>\n",
       "      <td>5.68%</td>\n",
       "      <td>0.41%</td>\n",
       "      <td>13.05%</td>\n",
       "      <td>0.35%</td>\n",
       "      <td>$67,264.78</td>\n",
       "      <td>19087135M_19334329F</td>\n",
       "    </tr>\n",
       "  </tbody>\n",
       "</table>\n",
       "</div>"
      ],
      "text/plain": [
       "   Unnamed: 0       State  TotalPop Hispanic   White   Black  Native   Asian  \\\n",
       "0           0     Alabama   4830620    3.75%  61.88%  31.25%   0.45%   1.05%   \n",
       "1           1      Alaska    733375    5.91%  60.91%   2.85%  16.39%   5.45%   \n",
       "2           2     Arizona   6641928   29.57%  57.12%   3.85%   4.36%   2.88%   \n",
       "3           3    Arkansas   2958208    6.22%  71.14%  18.97%   0.52%   1.14%   \n",
       "4           4  California  38421464   37.29%  40.22%   5.68%   0.41%  13.05%   \n",
       "\n",
       "  Pacific       Income            GenderPop  \n",
       "0   0.03%  $43,296.36     2341093M_2489527F  \n",
       "1   1.06%  $70,354.74       384160M_349215F  \n",
       "2   0.17%  $54,207.82     3299088M_3342840F  \n",
       "3   0.15%  $41,935.63     1451913M_1506295F  \n",
       "4   0.35%  $67,264.78   19087135M_19334329F  "
      ]
     },
     "execution_count": 410,
     "metadata": {},
     "output_type": "execute_result"
    }
   ],
   "source": [
    "us_census.head()"
   ]
  },
  {
   "cell_type": "code",
   "execution_count": 411,
   "metadata": {},
   "outputs": [
    {
     "data": {
      "text/plain": [
       "0            $43,296.36 \n",
       "1            $70,354.74 \n",
       "2            $54,207.82 \n",
       "3            $41,935.63 \n",
       "4            $67,264.78 \n",
       "5            $64,657.80 \n",
       "0    $64657.801787164906\n",
       "1      $76146.5605875153\n",
       "2     $61827.97663551402\n",
       "3     $75466.36363636363\n",
       "4    $50690.194986743794\n",
       "5     $50811.08205128205\n",
       "0     $50811.08205128205\n",
       "1     $73264.42628205128\n",
       "2     $48017.31543624161\n",
       "3     $59587.04887459807\n",
       "4     $48616.22784810127\n",
       "5     $53017.75304136253\n",
       "0     $53017.75304136253\n",
       "1    $53885.612648221344\n",
       "2     $45285.80253623189\n",
       "3     $44957.99376114082\n",
       "4     $49181.97435897436\n",
       "5     $78765.40072463769\n",
       "0     $78765.40072463769\n",
       "1     $72838.93672627235\n",
       "2     $51201.83003663004\n",
       "3       $62820.833959429\n",
       "4     $38909.91920731707\n",
       "5     $49763.98772563177\n",
       "0     $49763.98772563177\n",
       "1    $47645.682835820895\n",
       "2    $55916.469696969696\n",
       "3    $55526.525073746314\n",
       "4      $68728.8595890411\n",
       "5     $76581.08341708542\n",
       "0     $76581.08341708542\n",
       "1     $47329.96787148595\n",
       "2     $64290.74911292006\n",
       "3     $49937.46413697362\n",
       "4    $58188.112195121954\n",
       "5     $49655.24846625767\n",
       "0     $49655.24846625767\n",
       "1     $48100.85426653883\n",
       "2     $54271.90181818182\n",
       "3     $56170.46451005025\n",
       "4    $20720.538285714287\n",
       "5    $59125.270833333336\n",
       "0    $59125.270833333336\n",
       "1    $46296.807763401106\n",
       "2     $51805.40540540541\n",
       "3    $47328.083616587355\n",
       "4    $55874.522600500095\n",
       "5     $63488.91780821918\n",
       "0     $63488.91780821918\n",
       "1     $55602.96721311475\n",
       "2     $72866.01341201717\n",
       "3     $64493.76768377254\n",
       "4     $41437.11157024794\n",
       "5    $53898.889208633096\n",
       "Name: Income, dtype: object"
      ]
     },
     "execution_count": 411,
     "metadata": {},
     "output_type": "execute_result"
    }
   ],
   "source": [
    "us_census['Income']"
   ]
  },
  {
   "cell_type": "code",
   "execution_count": 412,
   "metadata": {},
   "outputs": [],
   "source": [
    "import re"
   ]
  },
  {
   "cell_type": "code",
   "execution_count": 413,
   "metadata": {},
   "outputs": [],
   "source": [
    "us_census['Income'] = us_census['Income'].replace('[\\$,]','', regex=True)"
   ]
  },
  {
   "cell_type": "code",
   "execution_count": 414,
   "metadata": {},
   "outputs": [
    {
     "data": {
      "text/plain": [
       "0             43296.36 \n",
       "1             70354.74 \n",
       "2             54207.82 \n",
       "3             41935.63 \n",
       "4             67264.78 \n",
       "5             64657.80 \n",
       "0    64657.801787164906\n",
       "1      76146.5605875153\n",
       "2     61827.97663551402\n",
       "3     75466.36363636363\n",
       "4    50690.194986743794\n",
       "5     50811.08205128205\n",
       "0     50811.08205128205\n",
       "1     73264.42628205128\n",
       "2     48017.31543624161\n",
       "3     59587.04887459807\n",
       "4     48616.22784810127\n",
       "5     53017.75304136253\n",
       "0     53017.75304136253\n",
       "1    53885.612648221344\n",
       "2     45285.80253623189\n",
       "3     44957.99376114082\n",
       "4     49181.97435897436\n",
       "5     78765.40072463769\n",
       "0     78765.40072463769\n",
       "1     72838.93672627235\n",
       "2     51201.83003663004\n",
       "3       62820.833959429\n",
       "4     38909.91920731707\n",
       "5     49763.98772563177\n",
       "0     49763.98772563177\n",
       "1    47645.682835820895\n",
       "2    55916.469696969696\n",
       "3    55526.525073746314\n",
       "4      68728.8595890411\n",
       "5     76581.08341708542\n",
       "0     76581.08341708542\n",
       "1     47329.96787148595\n",
       "2     64290.74911292006\n",
       "3     49937.46413697362\n",
       "4    58188.112195121954\n",
       "5     49655.24846625767\n",
       "0     49655.24846625767\n",
       "1     48100.85426653883\n",
       "2     54271.90181818182\n",
       "3     56170.46451005025\n",
       "4    20720.538285714287\n",
       "5    59125.270833333336\n",
       "0    59125.270833333336\n",
       "1    46296.807763401106\n",
       "2     51805.40540540541\n",
       "3    47328.083616587355\n",
       "4    55874.522600500095\n",
       "5     63488.91780821918\n",
       "0     63488.91780821918\n",
       "1     55602.96721311475\n",
       "2     72866.01341201717\n",
       "3     64493.76768377254\n",
       "4     41437.11157024794\n",
       "5    53898.889208633096\n",
       "Name: Income, dtype: object"
      ]
     },
     "execution_count": 414,
     "metadata": {},
     "output_type": "execute_result"
    }
   ],
   "source": [
    "us_census['Income']"
   ]
  },
  {
   "cell_type": "code",
   "execution_count": 415,
   "metadata": {},
   "outputs": [],
   "source": [
    "us_census['Income'] = pd.to_numeric(us_census['Income'])"
   ]
  },
  {
   "cell_type": "code",
   "execution_count": 416,
   "metadata": {},
   "outputs": [
    {
     "data": {
      "text/plain": [
       "0    43296.360000\n",
       "1    70354.740000\n",
       "2    54207.820000\n",
       "3    41935.630000\n",
       "4    67264.780000\n",
       "5    64657.800000\n",
       "0    64657.801787\n",
       "1    76146.560588\n",
       "2    61827.976636\n",
       "3    75466.363636\n",
       "4    50690.194987\n",
       "5    50811.082051\n",
       "0    50811.082051\n",
       "1    73264.426282\n",
       "2    48017.315436\n",
       "3    59587.048875\n",
       "4    48616.227848\n",
       "5    53017.753041\n",
       "0    53017.753041\n",
       "1    53885.612648\n",
       "2    45285.802536\n",
       "3    44957.993761\n",
       "4    49181.974359\n",
       "5    78765.400725\n",
       "0    78765.400725\n",
       "1    72838.936726\n",
       "2    51201.830037\n",
       "3    62820.833959\n",
       "4    38909.919207\n",
       "5    49763.987726\n",
       "0    49763.987726\n",
       "1    47645.682836\n",
       "2    55916.469697\n",
       "3    55526.525074\n",
       "4    68728.859589\n",
       "5    76581.083417\n",
       "0    76581.083417\n",
       "1    47329.967871\n",
       "2    64290.749113\n",
       "3    49937.464137\n",
       "4    58188.112195\n",
       "5    49655.248466\n",
       "0    49655.248466\n",
       "1    48100.854267\n",
       "2    54271.901818\n",
       "3    56170.464510\n",
       "4    20720.538286\n",
       "5    59125.270833\n",
       "0    59125.270833\n",
       "1    46296.807763\n",
       "2    51805.405405\n",
       "3    47328.083617\n",
       "4    55874.522601\n",
       "5    63488.917808\n",
       "0    63488.917808\n",
       "1    55602.967213\n",
       "2    72866.013412\n",
       "3    64493.767684\n",
       "4    41437.111570\n",
       "5    53898.889209\n",
       "Name: Income, dtype: float64"
      ]
     },
     "execution_count": 416,
     "metadata": {},
     "output_type": "execute_result"
    }
   ],
   "source": [
    "us_census['Income']"
   ]
  },
  {
   "cell_type": "code",
   "execution_count": 417,
   "metadata": {},
   "outputs": [
    {
     "data": {
      "text/plain": [
       "0      2341093M_2489527F\n",
       "1        384160M_349215F\n",
       "2      3299088M_3342840F\n",
       "3      1451913M_1506295F\n",
       "4    19087135M_19334329F\n",
       "5      2648667M_2630239F\n",
       "0      2648667M_2630239F\n",
       "1      1751607M_1841615F\n",
       "2        448413M_478041F\n",
       "3        306674M_340810F\n",
       "4     9600009M_10045763F\n",
       "5      4883331M_5123362F\n",
       "0      4883331M_5123362F\n",
       "1        709871M_696428F\n",
       "2        810464M_806083F\n",
       "3      6316899M_6556862F\n",
       "4      3235263M_3333382F\n",
       "5      1534595M_1558931F\n",
       "0      1534595M_1558931F\n",
       "1      1439862M_1453125F\n",
       "2      2164208M_2233145F\n",
       "3      2261156M_2364097F\n",
       "4        650081M_679019F\n",
       "5             2872643M_F\n",
       "0             2872643M_F\n",
       "1      3249650M_3455936F\n",
       "2      4861973M_5038598F\n",
       "3      2692166M_2727005F\n",
       "4      1451723M_1536358F\n",
       "5      2964003M_3081445F\n",
       "0      2964003M_3081445F\n",
       "1              510163M_F\n",
       "2        929606M_939759F\n",
       "3      1407735M_1390901F\n",
       "4        653484M_670717F\n",
       "5      4343027M_4561386F\n",
       "0      4343027M_4561386F\n",
       "1      1032414M_1051703F\n",
       "2     9541801M_10131373F\n",
       "3      4795408M_5049925F\n",
       "4        367963M_353677F\n",
       "5      5662893M_5913084F\n",
       "0      5662893M_5913084F\n",
       "1      1906944M_1942789F\n",
       "2      1948453M_1990780F\n",
       "3      6245344M_6534215F\n",
       "4      1713860M_1869213F\n",
       "5        510388M_543273F\n",
       "0        510388M_543273F\n",
       "1      2322409M_2455167F\n",
       "2        423477M_419713F\n",
       "3      3167756M_3331859F\n",
       "4    13171316M_13367298F\n",
       "5      1459229M_1444150F\n",
       "0      1459229M_1444150F\n",
       "1        308573M_318031F\n",
       "2      4060948M_4195682F\n",
       "3      3487725M_3497739F\n",
       "4        913631M_937789F\n",
       "5      2851385M_2890732F\n",
       "Name: GenderPop, dtype: object"
      ]
     },
     "execution_count": 417,
     "metadata": {},
     "output_type": "execute_result"
    }
   ],
   "source": [
    "us_census['GenderPop']"
   ]
  },
  {
   "cell_type": "code",
   "execution_count": 418,
   "metadata": {},
   "outputs": [],
   "source": [
    "gender_split = us_census.GenderPop.str.split('_')"
   ]
  },
  {
   "cell_type": "code",
   "execution_count": 419,
   "metadata": {},
   "outputs": [],
   "source": [
    "us_census['Men'] = gender_split.str.get(0)"
   ]
  },
  {
   "cell_type": "code",
   "execution_count": 420,
   "metadata": {},
   "outputs": [
    {
     "data": {
      "text/plain": [
       "0     2341093M\n",
       "1      384160M\n",
       "2     3299088M\n",
       "3     1451913M\n",
       "4    19087135M\n",
       "5     2648667M\n",
       "0     2648667M\n",
       "1     1751607M\n",
       "2      448413M\n",
       "3      306674M\n",
       "4     9600009M\n",
       "5     4883331M\n",
       "0     4883331M\n",
       "1      709871M\n",
       "2      810464M\n",
       "3     6316899M\n",
       "4     3235263M\n",
       "5     1534595M\n",
       "0     1534595M\n",
       "1     1439862M\n",
       "2     2164208M\n",
       "3     2261156M\n",
       "4      650081M\n",
       "5     2872643M\n",
       "0     2872643M\n",
       "1     3249650M\n",
       "2     4861973M\n",
       "3     2692166M\n",
       "4     1451723M\n",
       "5     2964003M\n",
       "0     2964003M\n",
       "1      510163M\n",
       "2      929606M\n",
       "3     1407735M\n",
       "4      653484M\n",
       "5     4343027M\n",
       "0     4343027M\n",
       "1     1032414M\n",
       "2     9541801M\n",
       "3     4795408M\n",
       "4      367963M\n",
       "5     5662893M\n",
       "0     5662893M\n",
       "1     1906944M\n",
       "2     1948453M\n",
       "3     6245344M\n",
       "4     1713860M\n",
       "5      510388M\n",
       "0      510388M\n",
       "1     2322409M\n",
       "2      423477M\n",
       "3     3167756M\n",
       "4    13171316M\n",
       "5     1459229M\n",
       "0     1459229M\n",
       "1      308573M\n",
       "2     4060948M\n",
       "3     3487725M\n",
       "4      913631M\n",
       "5     2851385M\n",
       "Name: Men, dtype: object"
      ]
     },
     "execution_count": 420,
     "metadata": {},
     "output_type": "execute_result"
    }
   ],
   "source": [
    "us_census['Men']"
   ]
  },
  {
   "cell_type": "code",
   "execution_count": 421,
   "metadata": {},
   "outputs": [],
   "source": [
    "us_census['Women'] = gender_split.str.get(1)"
   ]
  },
  {
   "cell_type": "code",
   "execution_count": 422,
   "metadata": {},
   "outputs": [
    {
     "data": {
      "text/plain": [
       "0     2489527F\n",
       "1      349215F\n",
       "2     3342840F\n",
       "3     1506295F\n",
       "4    19334329F\n",
       "5     2630239F\n",
       "0     2630239F\n",
       "1     1841615F\n",
       "2      478041F\n",
       "3      340810F\n",
       "4    10045763F\n",
       "5     5123362F\n",
       "0     5123362F\n",
       "1      696428F\n",
       "2      806083F\n",
       "3     6556862F\n",
       "4     3333382F\n",
       "5     1558931F\n",
       "0     1558931F\n",
       "1     1453125F\n",
       "2     2233145F\n",
       "3     2364097F\n",
       "4      679019F\n",
       "5            F\n",
       "0            F\n",
       "1     3455936F\n",
       "2     5038598F\n",
       "3     2727005F\n",
       "4     1536358F\n",
       "5     3081445F\n",
       "0     3081445F\n",
       "1            F\n",
       "2      939759F\n",
       "3     1390901F\n",
       "4      670717F\n",
       "5     4561386F\n",
       "0     4561386F\n",
       "1     1051703F\n",
       "2    10131373F\n",
       "3     5049925F\n",
       "4      353677F\n",
       "5     5913084F\n",
       "0     5913084F\n",
       "1     1942789F\n",
       "2     1990780F\n",
       "3     6534215F\n",
       "4     1869213F\n",
       "5      543273F\n",
       "0      543273F\n",
       "1     2455167F\n",
       "2      419713F\n",
       "3     3331859F\n",
       "4    13367298F\n",
       "5     1444150F\n",
       "0     1444150F\n",
       "1      318031F\n",
       "2     4195682F\n",
       "3     3497739F\n",
       "4      937789F\n",
       "5     2890732F\n",
       "Name: Women, dtype: object"
      ]
     },
     "execution_count": 422,
     "metadata": {},
     "output_type": "execute_result"
    }
   ],
   "source": [
    "us_census['Women']"
   ]
  },
  {
   "cell_type": "code",
   "execution_count": 423,
   "metadata": {},
   "outputs": [],
   "source": [
    "us_census['Men'] = us_census['Men'].replace('[M]','', regex=True)\n",
    "us_census['Women'] = us_census['Women'].replace('[F]','', regex=True)"
   ]
  },
  {
   "cell_type": "code",
   "execution_count": 424,
   "metadata": {},
   "outputs": [
    {
     "data": {
      "text/plain": [
       "0     2341093\n",
       "1      384160\n",
       "2     3299088\n",
       "3     1451913\n",
       "4    19087135\n",
       "5     2648667\n",
       "0     2648667\n",
       "1     1751607\n",
       "2      448413\n",
       "3      306674\n",
       "4     9600009\n",
       "5     4883331\n",
       "0     4883331\n",
       "1      709871\n",
       "2      810464\n",
       "3     6316899\n",
       "4     3235263\n",
       "5     1534595\n",
       "0     1534595\n",
       "1     1439862\n",
       "2     2164208\n",
       "3     2261156\n",
       "4      650081\n",
       "5     2872643\n",
       "0     2872643\n",
       "1     3249650\n",
       "2     4861973\n",
       "3     2692166\n",
       "4     1451723\n",
       "5     2964003\n",
       "0     2964003\n",
       "1      510163\n",
       "2      929606\n",
       "3     1407735\n",
       "4      653484\n",
       "5     4343027\n",
       "0     4343027\n",
       "1     1032414\n",
       "2     9541801\n",
       "3     4795408\n",
       "4      367963\n",
       "5     5662893\n",
       "0     5662893\n",
       "1     1906944\n",
       "2     1948453\n",
       "3     6245344\n",
       "4     1713860\n",
       "5      510388\n",
       "0      510388\n",
       "1     2322409\n",
       "2      423477\n",
       "3     3167756\n",
       "4    13171316\n",
       "5     1459229\n",
       "0     1459229\n",
       "1      308573\n",
       "2     4060948\n",
       "3     3487725\n",
       "4      913631\n",
       "5     2851385\n",
       "Name: Men, dtype: object"
      ]
     },
     "execution_count": 424,
     "metadata": {},
     "output_type": "execute_result"
    }
   ],
   "source": [
    "us_census['Men']"
   ]
  },
  {
   "cell_type": "code",
   "execution_count": 425,
   "metadata": {},
   "outputs": [
    {
     "data": {
      "text/plain": [
       "0     2489527\n",
       "1      349215\n",
       "2     3342840\n",
       "3     1506295\n",
       "4    19334329\n",
       "5     2630239\n",
       "0     2630239\n",
       "1     1841615\n",
       "2      478041\n",
       "3      340810\n",
       "4    10045763\n",
       "5     5123362\n",
       "0     5123362\n",
       "1      696428\n",
       "2      806083\n",
       "3     6556862\n",
       "4     3333382\n",
       "5     1558931\n",
       "0     1558931\n",
       "1     1453125\n",
       "2     2233145\n",
       "3     2364097\n",
       "4      679019\n",
       "5            \n",
       "0            \n",
       "1     3455936\n",
       "2     5038598\n",
       "3     2727005\n",
       "4     1536358\n",
       "5     3081445\n",
       "0     3081445\n",
       "1            \n",
       "2      939759\n",
       "3     1390901\n",
       "4      670717\n",
       "5     4561386\n",
       "0     4561386\n",
       "1     1051703\n",
       "2    10131373\n",
       "3     5049925\n",
       "4      353677\n",
       "5     5913084\n",
       "0     5913084\n",
       "1     1942789\n",
       "2     1990780\n",
       "3     6534215\n",
       "4     1869213\n",
       "5      543273\n",
       "0      543273\n",
       "1     2455167\n",
       "2      419713\n",
       "3     3331859\n",
       "4    13367298\n",
       "5     1444150\n",
       "0     1444150\n",
       "1      318031\n",
       "2     4195682\n",
       "3     3497739\n",
       "4      937789\n",
       "5     2890732\n",
       "Name: Women, dtype: object"
      ]
     },
     "execution_count": 425,
     "metadata": {},
     "output_type": "execute_result"
    }
   ],
   "source": [
    "us_census['Women']"
   ]
  },
  {
   "cell_type": "code",
   "execution_count": 426,
   "metadata": {},
   "outputs": [],
   "source": [
    "us_census['Men'] = pd.to_numeric(us_census['Men'])\n",
    "us_census['Women'] = pd.to_numeric(us_census['Women'])"
   ]
  },
  {
   "cell_type": "code",
   "execution_count": 427,
   "metadata": {},
   "outputs": [
    {
     "data": {
      "text/html": [
       "<div>\n",
       "<style scoped>\n",
       "    .dataframe tbody tr th:only-of-type {\n",
       "        vertical-align: middle;\n",
       "    }\n",
       "\n",
       "    .dataframe tbody tr th {\n",
       "        vertical-align: top;\n",
       "    }\n",
       "\n",
       "    .dataframe thead th {\n",
       "        text-align: right;\n",
       "    }\n",
       "</style>\n",
       "<table border=\"1\" class=\"dataframe\">\n",
       "  <thead>\n",
       "    <tr style=\"text-align: right;\">\n",
       "      <th></th>\n",
       "      <th>Unnamed: 0</th>\n",
       "      <th>State</th>\n",
       "      <th>TotalPop</th>\n",
       "      <th>Hispanic</th>\n",
       "      <th>White</th>\n",
       "      <th>Black</th>\n",
       "      <th>Native</th>\n",
       "      <th>Asian</th>\n",
       "      <th>Pacific</th>\n",
       "      <th>Income</th>\n",
       "      <th>GenderPop</th>\n",
       "      <th>Men</th>\n",
       "      <th>Women</th>\n",
       "    </tr>\n",
       "  </thead>\n",
       "  <tbody>\n",
       "    <tr>\n",
       "      <th>0</th>\n",
       "      <td>0</td>\n",
       "      <td>Alabama</td>\n",
       "      <td>4830620</td>\n",
       "      <td>3.75%</td>\n",
       "      <td>61.88%</td>\n",
       "      <td>31.25%</td>\n",
       "      <td>0.45%</td>\n",
       "      <td>1.05%</td>\n",
       "      <td>0.03%</td>\n",
       "      <td>43296.36</td>\n",
       "      <td>2341093M_2489527F</td>\n",
       "      <td>2341093</td>\n",
       "      <td>2489527.0</td>\n",
       "    </tr>\n",
       "    <tr>\n",
       "      <th>1</th>\n",
       "      <td>1</td>\n",
       "      <td>Alaska</td>\n",
       "      <td>733375</td>\n",
       "      <td>5.91%</td>\n",
       "      <td>60.91%</td>\n",
       "      <td>2.85%</td>\n",
       "      <td>16.39%</td>\n",
       "      <td>5.45%</td>\n",
       "      <td>1.06%</td>\n",
       "      <td>70354.74</td>\n",
       "      <td>384160M_349215F</td>\n",
       "      <td>384160</td>\n",
       "      <td>349215.0</td>\n",
       "    </tr>\n",
       "    <tr>\n",
       "      <th>2</th>\n",
       "      <td>2</td>\n",
       "      <td>Arizona</td>\n",
       "      <td>6641928</td>\n",
       "      <td>29.57%</td>\n",
       "      <td>57.12%</td>\n",
       "      <td>3.85%</td>\n",
       "      <td>4.36%</td>\n",
       "      <td>2.88%</td>\n",
       "      <td>0.17%</td>\n",
       "      <td>54207.82</td>\n",
       "      <td>3299088M_3342840F</td>\n",
       "      <td>3299088</td>\n",
       "      <td>3342840.0</td>\n",
       "    </tr>\n",
       "    <tr>\n",
       "      <th>3</th>\n",
       "      <td>3</td>\n",
       "      <td>Arkansas</td>\n",
       "      <td>2958208</td>\n",
       "      <td>6.22%</td>\n",
       "      <td>71.14%</td>\n",
       "      <td>18.97%</td>\n",
       "      <td>0.52%</td>\n",
       "      <td>1.14%</td>\n",
       "      <td>0.15%</td>\n",
       "      <td>41935.63</td>\n",
       "      <td>1451913M_1506295F</td>\n",
       "      <td>1451913</td>\n",
       "      <td>1506295.0</td>\n",
       "    </tr>\n",
       "    <tr>\n",
       "      <th>4</th>\n",
       "      <td>4</td>\n",
       "      <td>California</td>\n",
       "      <td>38421464</td>\n",
       "      <td>37.29%</td>\n",
       "      <td>40.22%</td>\n",
       "      <td>5.68%</td>\n",
       "      <td>0.41%</td>\n",
       "      <td>13.05%</td>\n",
       "      <td>0.35%</td>\n",
       "      <td>67264.78</td>\n",
       "      <td>19087135M_19334329F</td>\n",
       "      <td>19087135</td>\n",
       "      <td>19334329.0</td>\n",
       "    </tr>\n",
       "  </tbody>\n",
       "</table>\n",
       "</div>"
      ],
      "text/plain": [
       "   Unnamed: 0       State  TotalPop Hispanic   White   Black  Native   Asian  \\\n",
       "0           0     Alabama   4830620    3.75%  61.88%  31.25%   0.45%   1.05%   \n",
       "1           1      Alaska    733375    5.91%  60.91%   2.85%  16.39%   5.45%   \n",
       "2           2     Arizona   6641928   29.57%  57.12%   3.85%   4.36%   2.88%   \n",
       "3           3    Arkansas   2958208    6.22%  71.14%  18.97%   0.52%   1.14%   \n",
       "4           4  California  38421464   37.29%  40.22%   5.68%   0.41%  13.05%   \n",
       "\n",
       "  Pacific    Income            GenderPop       Men       Women  \n",
       "0   0.03%  43296.36    2341093M_2489527F   2341093   2489527.0  \n",
       "1   1.06%  70354.74      384160M_349215F    384160    349215.0  \n",
       "2   0.17%  54207.82    3299088M_3342840F   3299088   3342840.0  \n",
       "3   0.15%  41935.63    1451913M_1506295F   1451913   1506295.0  \n",
       "4   0.35%  67264.78  19087135M_19334329F  19087135  19334329.0  "
      ]
     },
     "execution_count": 427,
     "metadata": {},
     "output_type": "execute_result"
    }
   ],
   "source": [
    "us_census.head()"
   ]
  },
  {
   "cell_type": "code",
   "execution_count": 428,
   "metadata": {},
   "outputs": [],
   "source": [
    "import matplotlib.pyplot as plt"
   ]
  },
  {
   "cell_type": "code",
   "execution_count": 429,
   "metadata": {},
   "outputs": [
    {
     "data": {
      "image/png": "[encoded data removed]",
      "text/plain": [
       "<Figure size 432x288 with 1 Axes>"
      ]
     },
     "metadata": {
      "needs_background": "light"
     },
     "output_type": "display_data"
    }
   ],
   "source": [
    "plt.scatter(us_census['Women'],us_census['Income'], color=['green'])\n",
    "plt.xlabel('Women')\n",
    "plt.ylabel('Income')\n",
    "plt.show()"
   ]
  },
  {
   "cell_type": "code",
   "execution_count": 430,
   "metadata": {},
   "outputs": [],
   "source": [
    "us_census = us_census.fillna(value={'Women':us_census['TotalPop']-us_census['Men']})"
   ]
  },
  {
   "cell_type": "code",
   "execution_count": 431,
   "metadata": {},
   "outputs": [
    {
     "data": {
      "text/plain": [
       "False    51\n",
       "True      9\n",
       "dtype: int64"
      ]
     },
     "execution_count": 431,
     "metadata": {},
     "output_type": "execute_result"
    }
   ],
   "source": [
    "duplicates = us_census.duplicated(subset=['State'])\n",
    "duplicates.value_counts()"
   ]
  },
  {
   "cell_type": "code",
   "execution_count": 432,
   "metadata": {},
   "outputs": [
    {
     "data": {
      "text/plain": [
       "False    60\n",
       "dtype: int64"
      ]
     },
     "execution_count": 432,
     "metadata": {},
     "output_type": "execute_result"
    }
   ],
   "source": [
    "us_census = us_census.drop_duplicates()\n",
    "duplicates2 =us_census.duplicated()\n",
    "duplicates2.value_counts()"
   ]
  },
  {
   "cell_type": "code",
   "execution_count": 433,
   "metadata": {},
   "outputs": [
    {
     "data": {
      "image/png": "[encoded data removed]",
      "text/plain": [
       "<Figure size 432x288 with 1 Axes>"
      ]
     },
     "metadata": {
      "needs_background": "light"
     },
     "output_type": "display_data"
    }
   ],
   "source": [
    "plt.scatter(us_census['Women'],us_census['Income'], color=['blue'])\n",
    "plt.xlabel('Women')\n",
    "plt.ylabel('Income')\n",
    "plt.show()"
   ]
  },
  {
   "cell_type": "code",
   "execution_count": 434,
   "metadata": {},
   "outputs": [
    {
     "data": {
      "text/plain": [
       "Index(['Unnamed: 0', 'State', 'TotalPop', 'Hispanic', 'White', 'Black',\n",
       "       'Native', 'Asian', 'Pacific', 'Income', 'GenderPop', 'Men', 'Women'],\n",
       "      dtype='object')"
      ]
     },
     "execution_count": 434,
     "metadata": {},
     "output_type": "execute_result"
    }
   ],
   "source": [
    "us_census.columns"
   ]
  },
  {
   "cell_type": "code",
   "execution_count": 435,
   "metadata": {},
   "outputs": [
    {
     "data": {
      "text/html": [
       "<div>\n",
       "<style scoped>\n",
       "    .dataframe tbody tr th:only-of-type {\n",
       "        vertical-align: middle;\n",
       "    }\n",
       "\n",
       "    .dataframe tbody tr th {\n",
       "        vertical-align: top;\n",
       "    }\n",
       "\n",
       "    .dataframe thead th {\n",
       "        text-align: right;\n",
       "    }\n",
       "</style>\n",
       "<table border=\"1\" class=\"dataframe\">\n",
       "  <thead>\n",
       "    <tr style=\"text-align: right;\">\n",
       "      <th></th>\n",
       "      <th>Unnamed: 0</th>\n",
       "      <th>State</th>\n",
       "      <th>TotalPop</th>\n",
       "      <th>Hispanic</th>\n",
       "      <th>White</th>\n",
       "      <th>Black</th>\n",
       "      <th>Native</th>\n",
       "      <th>Asian</th>\n",
       "      <th>Pacific</th>\n",
       "      <th>Income</th>\n",
       "      <th>GenderPop</th>\n",
       "      <th>Men</th>\n",
       "      <th>Women</th>\n",
       "    </tr>\n",
       "  </thead>\n",
       "  <tbody>\n",
       "    <tr>\n",
       "      <th>0</th>\n",
       "      <td>0</td>\n",
       "      <td>Alabama</td>\n",
       "      <td>4830620</td>\n",
       "      <td>3.75%</td>\n",
       "      <td>61.88%</td>\n",
       "      <td>31.25%</td>\n",
       "      <td>0.45%</td>\n",
       "      <td>1.05%</td>\n",
       "      <td>0.03%</td>\n",
       "      <td>43296.36</td>\n",
       "      <td>2341093M_2489527F</td>\n",
       "      <td>2341093</td>\n",
       "      <td>2489527.0</td>\n",
       "    </tr>\n",
       "    <tr>\n",
       "      <th>1</th>\n",
       "      <td>1</td>\n",
       "      <td>Alaska</td>\n",
       "      <td>733375</td>\n",
       "      <td>5.91%</td>\n",
       "      <td>60.91%</td>\n",
       "      <td>2.85%</td>\n",
       "      <td>16.39%</td>\n",
       "      <td>5.45%</td>\n",
       "      <td>1.06%</td>\n",
       "      <td>70354.74</td>\n",
       "      <td>384160M_349215F</td>\n",
       "      <td>384160</td>\n",
       "      <td>349215.0</td>\n",
       "    </tr>\n",
       "    <tr>\n",
       "      <th>2</th>\n",
       "      <td>2</td>\n",
       "      <td>Arizona</td>\n",
       "      <td>6641928</td>\n",
       "      <td>29.57%</td>\n",
       "      <td>57.12%</td>\n",
       "      <td>3.85%</td>\n",
       "      <td>4.36%</td>\n",
       "      <td>2.88%</td>\n",
       "      <td>0.17%</td>\n",
       "      <td>54207.82</td>\n",
       "      <td>3299088M_3342840F</td>\n",
       "      <td>3299088</td>\n",
       "      <td>3342840.0</td>\n",
       "    </tr>\n",
       "    <tr>\n",
       "      <th>3</th>\n",
       "      <td>3</td>\n",
       "      <td>Arkansas</td>\n",
       "      <td>2958208</td>\n",
       "      <td>6.22%</td>\n",
       "      <td>71.14%</td>\n",
       "      <td>18.97%</td>\n",
       "      <td>0.52%</td>\n",
       "      <td>1.14%</td>\n",
       "      <td>0.15%</td>\n",
       "      <td>41935.63</td>\n",
       "      <td>1451913M_1506295F</td>\n",
       "      <td>1451913</td>\n",
       "      <td>1506295.0</td>\n",
       "    </tr>\n",
       "    <tr>\n",
       "      <th>4</th>\n",
       "      <td>4</td>\n",
       "      <td>California</td>\n",
       "      <td>38421464</td>\n",
       "      <td>37.29%</td>\n",
       "      <td>40.22%</td>\n",
       "      <td>5.68%</td>\n",
       "      <td>0.41%</td>\n",
       "      <td>13.05%</td>\n",
       "      <td>0.35%</td>\n",
       "      <td>67264.78</td>\n",
       "      <td>19087135M_19334329F</td>\n",
       "      <td>19087135</td>\n",
       "      <td>19334329.0</td>\n",
       "    </tr>\n",
       "  </tbody>\n",
       "</table>\n",
       "</div>"
      ],
      "text/plain": [
       "   Unnamed: 0       State  TotalPop Hispanic   White   Black  Native   Asian  \\\n",
       "0           0     Alabama   4830620    3.75%  61.88%  31.25%   0.45%   1.05%   \n",
       "1           1      Alaska    733375    5.91%  60.91%   2.85%  16.39%   5.45%   \n",
       "2           2     Arizona   6641928   29.57%  57.12%   3.85%   4.36%   2.88%   \n",
       "3           3    Arkansas   2958208    6.22%  71.14%  18.97%   0.52%   1.14%   \n",
       "4           4  California  38421464   37.29%  40.22%   5.68%   0.41%  13.05%   \n",
       "\n",
       "  Pacific    Income            GenderPop       Men       Women  \n",
       "0   0.03%  43296.36    2341093M_2489527F   2341093   2489527.0  \n",
       "1   1.06%  70354.74      384160M_349215F    384160    349215.0  \n",
       "2   0.17%  54207.82    3299088M_3342840F   3299088   3342840.0  \n",
       "3   0.15%  41935.63    1451913M_1506295F   1451913   1506295.0  \n",
       "4   0.35%  67264.78  19087135M_19334329F  19087135  19334329.0  "
      ]
     },
     "execution_count": 435,
     "metadata": {},
     "output_type": "execute_result"
    }
   ],
   "source": [
    "us_census.head()"
   ]
  },
  {
   "cell_type": "code",
   "execution_count": 436,
   "metadata": {},
   "outputs": [],
   "source": [
    "us_census['Hispanic'] = us_census['Hispanic'].replace('%','',regex=True)"
   ]
  },
  {
   "cell_type": "code",
   "execution_count": 437,
   "metadata": {},
   "outputs": [],
   "source": [
    "us_census['Hispanic'] = pd.to_numeric(us_census['Hispanic'])"
   ]
  },
  {
   "cell_type": "code",
   "execution_count": 438,
   "metadata": {},
   "outputs": [
    {
     "data": {
      "text/plain": [
       "0     3.750000\n",
       "1     5.910000\n",
       "2    29.570000\n",
       "3     6.220000\n",
       "4    37.290000\n",
       "5    20.780000\n",
       "0    20.784380\n",
       "1    15.604831\n",
       "2     8.824766\n",
       "3     9.165922\n",
       "4    21.338543\n",
       "5     8.418242\n",
       "0     8.418242\n",
       "1     9.186709\n",
       "2    11.505369\n",
       "3    15.601734\n",
       "4     6.536744\n",
       "5     5.303645\n",
       "0     5.303645\n",
       "1    11.644342\n",
       "2     3.222994\n",
       "3     4.866489\n",
       "4     1.431909\n",
       "5     8.472498\n",
       "0     8.472498\n",
       "1    11.461066\n",
       "2     4.634993\n",
       "3     5.152924\n",
       "4     2.842401\n",
       "5     4.037248\n",
       "0     4.037248\n",
       "1     3.268889\n",
       "2     9.203759\n",
       "3    27.100884\n",
       "4     3.321918\n",
       "5    18.749500\n",
       "0    18.749500\n",
       "1    45.282932\n",
       "2    17.241425\n",
       "3     8.464763\n",
       "4     2.832683\n",
       "5     3.672084\n",
       "0     3.672084\n",
       "1    10.079904\n",
       "2    11.441212\n",
       "3     6.128014\n",
       "4    98.893574\n",
       "5    13.356667\n",
       "0    13.356667\n",
       "1     5.056685\n",
       "2     3.239640\n",
       "3     4.720027\n",
       "4    38.046738\n",
       "5    13.468376\n",
       "0    13.468376\n",
       "1     1.609290\n",
       "2     8.011016\n",
       "3    11.140969\n",
       "4     1.290909\n",
       "5     6.683333\n",
       "Name: Hispanic, dtype: float64"
      ]
     },
     "execution_count": 438,
     "metadata": {},
     "output_type": "execute_result"
    }
   ],
   "source": [
    "us_census['Hispanic']"
   ]
  },
  {
   "cell_type": "code",
   "execution_count": 439,
   "metadata": {},
   "outputs": [],
   "source": [
    "us_census['White'] = us_census['White'].replace('[\\%]','',regex=True)\n",
    "us_census['Black'] = us_census['Black'].replace('[\\%]','',regex=True)\n",
    "us_census['Native'] = us_census['Native'].replace('[\\%]','',regex=True)\n",
    "us_census['Asian'] = us_census['Asian'].replace('[\\%]','',regex=True)\n",
    "us_census['Pacific'] = us_census['Pacific'].replace('[\\%]','',regex=True)"
   ]
  },
  {
   "cell_type": "code",
   "execution_count": 440,
   "metadata": {},
   "outputs": [],
   "source": [
    "us_census['White'] = pd.to_numeric(us_census['White'])\n",
    "us_census['Black'] = pd.to_numeric(us_census['Black'])\n",
    "us_census['Native'] = pd.to_numeric(us_census['Native'])\n",
    "us_census['Asian'] = pd.to_numeric(us_census['Asian'])\n",
    "us_census['Pacific'] = pd.to_numeric(us_census['Pacific'])"
   ]
  },
  {
   "cell_type": "code",
   "execution_count": 441,
   "metadata": {},
   "outputs": [
    {
     "data": {
      "text/plain": [
       "Unnamed: 0      int64\n",
       "State          object\n",
       "TotalPop        int64\n",
       "Hispanic      float64\n",
       "White         float64\n",
       "Black         float64\n",
       "Native        float64\n",
       "Asian         float64\n",
       "Pacific       float64\n",
       "Income        float64\n",
       "GenderPop      object\n",
       "Men             int64\n",
       "Women         float64\n",
       "dtype: object"
      ]
     },
     "execution_count": 441,
     "metadata": {},
     "output_type": "execute_result"
    }
   ],
   "source": [
    "us_census.dtypes"
   ]
  },
  {
   "cell_type": "code",
   "execution_count": 442,
   "metadata": {},
   "outputs": [],
   "source": [
    "Hisp =us_census.Hispanic.isnull()\n",
    "Wht =us_census.White.isnull()\n",
    "Blk =us_census.Black.isnull()\n",
    "Ntv =us_census.Native.isnull()\n",
    "Asn =us_census.Asian.isnull()\n",
    "Pcf =us_census.Pacific.isnull()"
   ]
  },
  {
   "cell_type": "code",
   "execution_count": 443,
   "metadata": {},
   "outputs": [
    {
     "data": {
      "text/plain": [
       "False    60\n",
       "Name: Hispanic, dtype: int64"
      ]
     },
     "execution_count": 443,
     "metadata": {},
     "output_type": "execute_result"
    }
   ],
   "source": [
    "Hisp.value_counts()"
   ]
  },
  {
   "cell_type": "code",
   "execution_count": 444,
   "metadata": {},
   "outputs": [
    {
     "data": {
      "text/plain": [
       "False    60\n",
       "Name: White, dtype: int64"
      ]
     },
     "execution_count": 444,
     "metadata": {},
     "output_type": "execute_result"
    }
   ],
   "source": [
    "Wht.value_counts()"
   ]
  },
  {
   "cell_type": "code",
   "execution_count": 445,
   "metadata": {},
   "outputs": [
    {
     "data": {
      "text/plain": [
       "False    60\n",
       "Name: Black, dtype: int64"
      ]
     },
     "execution_count": 445,
     "metadata": {},
     "output_type": "execute_result"
    }
   ],
   "source": [
    "Blk.value_counts()"
   ]
  },
  {
   "cell_type": "code",
   "execution_count": 446,
   "metadata": {},
   "outputs": [
    {
     "data": {
      "text/plain": [
       "False    60\n",
       "Name: Native, dtype: int64"
      ]
     },
     "execution_count": 446,
     "metadata": {},
     "output_type": "execute_result"
    }
   ],
   "source": [
    "Ntv.value_counts()"
   ]
  },
  {
   "cell_type": "code",
   "execution_count": 447,
   "metadata": {},
   "outputs": [
    {
     "data": {
      "text/plain": [
       "False    60\n",
       "Name: Asian, dtype: int64"
      ]
     },
     "execution_count": 447,
     "metadata": {},
     "output_type": "execute_result"
    }
   ],
   "source": [
    "Asn.value_counts()\n"
   ]
  },
  {
   "cell_type": "code",
   "execution_count": 448,
   "metadata": {},
   "outputs": [
    {
     "data": {
      "text/plain": [
       "False    55\n",
       "True      5\n",
       "Name: Pacific, dtype: int64"
      ]
     },
     "execution_count": 448,
     "metadata": {},
     "output_type": "execute_result"
    }
   ],
   "source": [
    "Pcf.value_counts()"
   ]
  },
  {
   "cell_type": "code",
   "execution_count": 449,
   "metadata": {},
   "outputs": [],
   "source": [
    "us_census = us_census.fillna(value={'pacific': us_census.Pacific.mean})"
   ]
  },
  {
   "cell_type": "code",
   "execution_count": 451,
   "metadata": {},
   "outputs": [
    {
     "data": {
      "image/png": "[encoded data removed]",
      "text/plain": [
       "<Figure size 432x288 with 1 Axes>"
      ]
     },
     "metadata": {
      "needs_background": "light"
     },
     "output_type": "display_data"
    }
   ],
   "source": [
    "plt.hist(us_census['Hispanic'],color=['green'])\n",
    "plt.xlabel('Population percentage')\n",
    "plt.ylabel('Occurance Ratio')\n",
    "plt.show()"
   ]
  },
  {
   "cell_type": "code",
   "execution_count": 452,
   "metadata": {},
   "outputs": [
    {
     "data": {
      "image/png": "[encoded data removed]",
      "text/plain": [
       "<Figure size 432x288 with 1 Axes>"
      ]
     },
     "metadata": {
      "needs_background": "light"
     },
     "output_type": "display_data"
    }
   ],
   "source": [
    "plt.hist(us_census['White'],color=['pink'])\n",
    "plt.xlabel('Population percentage')\n",
    "plt.ylabel('Occurance Ratio')\n",
    "plt.show()"
   ]
  },
  {
   "cell_type": "code",
   "execution_count": 453,
   "metadata": {},
   "outputs": [
    {
     "data": {
      "image/png": "[encoded data removed]",
      "text/plain": [
       "<Figure size 432x288 with 1 Axes>"
      ]
     },
     "metadata": {
      "needs_background": "light"
     },
     "output_type": "display_data"
    }
   ],
   "source": [
    "plt.hist(us_census['Black'],color=['black'])\n",
    "plt.xlabel('Population percentage')\n",
    "plt.ylabel('Occurance Ratio')\n",
    "plt.show()"
   ]
  },
  {
   "cell_type": "code",
   "execution_count": 454,
   "metadata": {},
   "outputs": [
    {
     "data": {
      "image/png": "[encoded data removed]",
      "text/plain": [
       "<Figure size 432x288 with 1 Axes>"
      ]
     },
     "metadata": {
      "needs_background": "light"
     },
     "output_type": "display_data"
    }
   ],
   "source": [
    "plt.hist(us_census['Native'],color=['yellow'])\n",
    "plt.xlabel('Population percentage')\n",
    "plt.ylabel('Occurance Ratio')\n",
    "plt.show()"
   ]
  },
  {
   "cell_type": "code",
   "execution_count": 456,
   "metadata": {},
   "outputs": [
    {
     "data": {
      "image/png": "[encoded data removed]",
      "text/plain": [
       "<Figure size 432x288 with 1 Axes>"
      ]
     },
     "metadata": {
      "needs_background": "light"
     },
     "output_type": "display_data"
    }
   ],
   "source": [
    "plt.hist(us_census['Asian'],color=['Purple'])\n",
    "plt.xlabel('Population percentage')\n",
    "plt.ylabel('Occurance Ratio')\n",
    "plt.show()"
   ]
  },
  {
   "cell_type": "code",
   "execution_count": 459,
   "metadata": {},
   "outputs": [
    {
     "data": {
      "image/png": "[encoded data removed]",
      "text/plain": [
       "<Figure size 432x288 with 1 Axes>"
      ]
     },
     "metadata": {
      "needs_background": "light"
     },
     "output_type": "display_data"
    }
   ],
   "source": [
    "plt.hist(us_census['Pacific'],color=['blue'])\n",
    "plt.xlabel('Population percentage')\n",
    "plt.ylabel('Occurance Ratio')\n",
    "plt.show()"
   ]
  },
  {
   "cell_type": "code",
   "execution_count": null,
   "metadata": {},
   "outputs": [],
   "source": []
  }
 ],
 "metadata": {
  "kernelspec": {
   "display_name": "Python 3",
   "language": "python",
   "name": "python3"
  },
  "language_info": {
   "codemirror_mode": {
    "name": "ipython",
    "version": 3
   },
   "file_extension": ".py",
   "mimetype": "text/x-python",
   "name": "python",
   "nbconvert_exporter": "python",
   "pygments_lexer": "ipython3",
   "version": "3.8.5"
  }
 },
 "nbformat": 4,
 "nbformat_minor": 4
}
